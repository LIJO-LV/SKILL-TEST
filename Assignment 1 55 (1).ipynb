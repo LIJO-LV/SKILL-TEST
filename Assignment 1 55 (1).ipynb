{
 "cells": [
  {
   "cell_type": "markdown",
   "id": "7f61747a",
   "metadata": {},
   "source": [
    "## 3*4 array with random values"
   ]
  },
  {
   "cell_type": "code",
   "execution_count": 2,
   "id": "a6cebfb3",
   "metadata": {},
   "outputs": [
    {
     "name": "stdout",
     "output_type": "stream",
     "text": [
      "Array with random values\n",
      " [[0.57073158 0.16218982 0.82567856 0.49129275]\n",
      " [0.87264616 0.98713085 0.15265208 0.95795209]\n",
      " [0.40920745 0.77329218 0.16453162 0.03055041]]\n"
     ]
    }
   ],
   "source": [
    "import numpy as np;\n",
    "print(\"Array with random values\\n\",np.random.random((3,4)))"
   ]
  },
  {
   "cell_type": "markdown",
   "id": "7461cd06",
   "metadata": {},
   "source": [
    "### 3*4 array with zeros"
   ]
  },
  {
   "cell_type": "code",
   "execution_count": 3,
   "id": "c130160d",
   "metadata": {},
   "outputs": [
    {
     "name": "stdout",
     "output_type": "stream",
     "text": [
      "Array with zeros\n",
      " [[0. 0. 0. 0.]\n",
      " [0. 0. 0. 0.]\n",
      " [0. 0. 0. 0.]]\n"
     ]
    }
   ],
   "source": [
    "import numpy as np;\n",
    "print(\"Array with zeros\\n\",np.zeros((3,4)))"
   ]
  },
  {
   "cell_type": "markdown",
   "id": "1f8bedd6",
   "metadata": {},
   "source": [
    "## One dimensional array with 5 to 30 step 2"
   ]
  },
  {
   "cell_type": "code",
   "execution_count": 6,
   "id": "b5e62f8e",
   "metadata": {},
   "outputs": [
    {
     "name": "stdout",
     "output_type": "stream",
     "text": [
      "One dimensional array\n",
      " [ 5  7  9 11 13 15 17 19 21 23 25 27 29]\n"
     ]
    }
   ],
   "source": [
    "import numpy as np;\n",
    "print(\"One dimensional array\\n\",np.arange(5,31,2))"
   ]
  },
  {
   "cell_type": "markdown",
   "id": "0d17f3d1",
   "metadata": {},
   "source": [
    "### Find shape,dimension,type of the array"
   ]
  },
  {
   "cell_type": "code",
   "execution_count": 10,
   "id": "860b38e2",
   "metadata": {},
   "outputs": [
    {
     "name": "stdout",
     "output_type": "stream",
     "text": [
      "Shap of the array is: (2, 3)\n",
      "Dimension of the array is: 2\n",
      "Type of the array is: int64\n"
     ]
    }
   ],
   "source": [
    "import numpy as np;\n",
    "a=np.array([[3,2,1],[5,8,9]])\n",
    "print(\"Shap of the array is:\",a.shape)\n",
    "print(\"Dimension of the array is:\",a.ndim)\n",
    "print(\"Type of the array is:\",a.dtype)"
   ]
  },
  {
   "cell_type": "markdown",
   "id": "40241061",
   "metadata": {},
   "source": [
    "### `Flatten the array"
   ]
  },
  {
   "cell_type": "code",
   "execution_count": 11,
   "id": "d1f37f00",
   "metadata": {},
   "outputs": [
    {
     "name": "stdout",
     "output_type": "stream",
     "text": [
      "Flattened array is: [4 7 8 7 6 5]\n"
     ]
    }
   ],
   "source": [
    "import numpy as np;\n",
    "b=np.array([[4,7,8],[7,6,5]])\n",
    "print(\"Flattened array is:\",b.flatten())"
   ]
  }
 ],
 "metadata": {
  "kernelspec": {
   "display_name": "Python 3 (ipykernel)",
   "language": "python",
   "name": "python3"
  },
  "language_info": {
   "codemirror_mode": {
    "name": "ipython",
    "version": 3
   },
   "file_extension": ".py",
   "mimetype": "text/x-python",
   "name": "python",
   "nbconvert_exporter": "python",
   "pygments_lexer": "ipython3",
   "version": "3.11.4"
  }
 },
 "nbformat": 4,
 "nbformat_minor": 5
}
