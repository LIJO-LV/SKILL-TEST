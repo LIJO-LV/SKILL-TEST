{
 "cells": [
  {
   "cell_type": "markdown",
   "id": "1c04ae1b-050c-4e23-9e33-195331424d6c",
   "metadata": {},
   "source": [
    "# Question 1(A) : Analyze Student Exam Scores with Python"
   ]
  },
  {
   "cell_type": "code",
   "execution_count": 36,
   "id": "bdf276f8-0d2d-4de7-aa62-62332f0c43da",
   "metadata": {},
   "outputs": [
    {
     "name": "stdout",
     "output_type": "stream",
     "text": [
      "    S.NO     NAME  MARKS\n",
      "0      1  ARAVIND     70\n",
      "1      2  ABINITH     65\n",
      "2      3    ASWIN     45\n",
      "3      4     BABU     66\n",
      "4      5     BALA     55\n",
      "5      6  BHARATH     73\n",
      "6      7   BHAVAN     72\n",
      "7      8   DHARUN     55\n",
      "8      9     LIJO     66\n",
      "9     10     MANI     45\n",
      "10    11   DINESH     47\n",
      "11    12     Elan     76\n",
      "12    13   DHILIP     65\n",
      "13    14     HARI     46\n",
      "14    15   HARISH     58\n",
      "15    15    SURYA     61\n",
      "16    16    JOHAN     65\n",
      "17    17    JOSUA     67\n",
      "18    18  KAILASH     69\n",
      "19    19   KISHOR     57\n",
      "20    20   LOHITH     54\n"
     ]
    }
   ],
   "source": [
    "import pandas as pd\n",
    "df=pd.read_excel(\"Students performance\")\n",
    "print(df)"
   ]
  },
  {
   "cell_type": "code",
   "execution_count": 98,
   "id": "561b2524-21f2-45a5-a23e-557eb1cb8183",
   "metadata": {},
   "outputs": [
    {
     "name": "stdout",
     "output_type": "stream",
     "text": [
      "      NAME  MARKS Status Grade\n",
      "0  ARAVIND     70   Pass     C\n",
      "1  ABINITH     65   Pass     D\n",
      "2    ASWIN     45   Fail     F\n",
      "3     BABU     66   Pass     D\n",
      "4     BALA     55   Pass     E\n",
      "\n",
      "Data saved with status\n",
      "     S.NO     NAME  MARKS Status Grade\n",
      "0      1  ARAVIND     70   Pass     C\n",
      "1      2  ABINITH     65   Pass     D\n",
      "2      3    ASWIN     45   Fail     F\n",
      "3      4     BABU     66   Pass     D\n",
      "4      5     BALA     55   Pass     E\n",
      "5      6  BHARATH     73   Pass     C\n",
      "6      7   BHAVAN     72   Pass     C\n",
      "7      8   DHARUN     55   Pass     E\n",
      "8      9     LIJO     66   Pass     D\n",
      "9     10     MANI     45   Fail     F\n",
      "10    11   DINESH     47   Fail     F\n",
      "11    12     Elan     76   Pass     C\n",
      "12    13   DHILIP     65   Pass     D\n",
      "13    14     HARI     46   Fail     F\n",
      "14    15   HARISH     58   Pass     E\n",
      "15    15    SURYA     61   Pass     D\n",
      "16    16    JOHAN     65   Pass     D\n",
      "17    17    JOSUA     67   Pass     D\n",
      "18    18  KAILASH     69   Pass     D\n",
      "19    19   KISHOR     57   Pass     E\n",
      "20    20   LOHITH     54   Pass     E\n",
      "The average score is: 60.80952380952381\n"
     ]
    }
   ],
   "source": [
    "import pandas as pd\n",
    "df = pd.read_excel(\"Students performance\")  \n",
    "df['Status'] = df['MARKS'].apply(lambda x: 'Pass' if x >= 50 else 'Fail')\n",
    "df['Grade']=df['MARKS'].apply(lambda x:'A' if x >= 90\n",
    "    else 'B' if x>= 80\n",
    "    else 'C' if x>= 70\n",
    "    else 'D' if x>= 60\n",
    "    else 'E' if x>= 50 else 'F')\n",
    "average=df['MARKS'].mean()\n",
    "print(df[['NAME', 'MARKS', 'Status','Grade']].head())\n",
    "df.to_excel(\"Students performance1.xlsx\", index=False)\n",
    "print(\"\\nData saved with status\\n\",df)\n",
    "print(\"The average score is:\",average)"
   ]
  },
  {
   "cell_type": "markdown",
   "id": "1f18295b-3698-440a-bcc2-386632dd3d80",
   "metadata": {},
   "source": [
    "## Question 1 (B) : Solve a System of Linear Equations"
   ]
  },
  {
   "cell_type": "code",
   "execution_count": 106,
   "id": "52e810df-0926-4285-884a-b2c413f33d55",
   "metadata": {},
   "outputs": [
    {
     "name": "stdout",
     "output_type": "stream",
     "text": [
      "Solution:\n",
      "  Variable  Solution\n",
      "0        x       1.0\n",
      "1        y       2.0\n"
     ]
    }
   ],
   "source": [
    "import numpy as np\n",
    "import pandas as pd\n",
    "A = np.array([[2, 3], [4, -1]])\n",
    "b = np.array([[8], [2]])\n",
    "solution = np.linalg.solve(A, b)\n",
    "df = pd.DataFrame({\n",
    "    'Variable': ['x','y'],\n",
    "    'Solution': solution.flatten()\n",
    "})\n",
    "print(\"Solution:\")\n",
    "print(df)"
   ]
  },
  {
   "cell_type": "markdown",
   "id": "412f5422-abdf-4020-bf90-fb67bba3e63f",
   "metadata": {},
   "source": [
    "## Question 2(A) : Analyze Daily Step Count Using NumPy"
   ]
  },
  {
   "cell_type": "code",
   "execution_count": 109,
   "id": "8a10d369-a563-40c4-bcdf-3421fb65d335",
   "metadata": {},
   "outputs": [
    {
     "name": "stdout",
     "output_type": "stream",
     "text": [
      "Monthly Step Analysis:\n",
      "Total steps: 280617\n",
      "Average steps/day: 9353.9\n",
      "Max steps: 14964 (Day 5)\n",
      "Min steps: 3466 (Day 9)\n",
      "High activity days (> 12877.6 steps): Days [ 5  6 12 13 14 18 28]\n"
     ]
    }
   ],
   "source": [
    "import numpy as np\n",
    "import matplotlib.pyplot as plt\n",
    "np.random.seed(42)\n",
    "steps = np.random.randint(3000, 15000, size=30)\n",
    "total_steps = np.sum(steps)\n",
    "avg_steps = np.mean(steps)\n",
    "max_steps = np.max(steps)\n",
    "min_steps = np.min(steps)\n",
    "std_dev = np.std(steps)\n",
    "threshold = avg_steps + std_dev\n",
    "high_activity_days = np.where(steps > threshold)[0] + 1  # +1 to make days start from 1\n",
    "moving_avg = np.convolve(steps, np.ones(7)/7, mode='valid')\n",
    "print(f\"Monthly Step Analysis:\")\n",
    "print(f\"Total steps: {total_steps}\")\n",
    "print(f\"Average steps/day: {avg_steps:.1f}\")\n",
    "print(f\"Max steps: {max_steps} (Day {np.argmax(steps)+1})\")\n",
    "print(f\"Min steps: {min_steps} (Day {np.argmin(steps)+1})\")\n",
    "print(f\"High activity days (> {threshold:.1f} steps): Days {high_activity_days}\")"
   ]
  },
  {
   "cell_type": "markdown",
   "id": "1e3e08d5-6450-478d-8201-aa9af4279364",
   "metadata": {},
   "source": [
    "## Question 2 (B) : Analyze Student Grades Using NumPy"
   ]
  },
  {
   "cell_type": "code",
   "execution_count": 112,
   "id": "db0c9c1a-f56b-4370-af82-0023d8479575",
   "metadata": {},
   "outputs": [
    {
     "name": "stdout",
     "output_type": "stream",
     "text": [
      "         NAME  MATHS  SCIENCE  SOCIAL\n",
      "0        LIJO     75       67      56\n",
      "1     ARAVIND     54       75      54\n",
      "2       ARJUN     53       54      53\n",
      "3      DHARUN     76       53      76\n",
      "4        BALA     56       76      56\n",
      "5     DHAYESH     67       56      67\n",
      "6       YUVAN     75       67      75\n",
      "7     BHARATH     54       75      54\n",
      "8      BHAVAN     53       54      53\n",
      "9    CHANDRAN     76       53      76\n",
      "10       ELAN     56       76      56\n",
      "11      SURYA     67       56      67\n",
      "12    HIRENDE     75       67      75\n",
      "13     AKILAN     54       75      54\n",
      "14     LOHITH     53       54      53\n",
      "15    KISHORE     76       53      76\n",
      "16    LATHISH     56       76      56\n",
      "17  MAITHRESH     67       56      67\n",
      "18      FAHIM     75       67      75\n",
      "19       DHIP     54       75      54\n",
      "20     SANJAY     53       54      53\n",
      "21      VIJAY     76       53      45\n",
      "22   THIVAGAR     56       76      76\n",
      "23        ANU     67       56      43\n",
      "24       GOPI     56       67      24\n",
      "25       HARI     75       56      54\n",
      "26     SUDHAN     54       75      65\n",
      "27     RAJESH     53       58      45\n",
      "28     RAMESH     76       56      34\n",
      "29     SURESH     56       43      54\n"
     ]
    }
   ],
   "source": [
    "df=pd.read_excel(\"Details.xlsx\")\n",
    "print(df)"
   ]
  },
  {
   "cell_type": "code",
   "execution_count": 130,
   "id": "56910ca5-2c8b-4142-9a7d-6cd7983ceba9",
   "metadata": {},
   "outputs": [
    {
     "name": "stdout",
     "output_type": "stream",
     "text": [
      "         NAME  MATHS  SCIENCE  SOCIAL  Total    Average  Maximum_mark\n",
      "0        LIJO     75       67      56    198  66.000000            75\n",
      "1     ARAVIND     54       75      54    183  61.000000            75\n",
      "2       ARJUN     53       54      53    160  53.333333            54\n",
      "3      DHARUN     76       53      76    205  68.333333            76\n",
      "4        BALA     56       76      56    188  62.666667            76\n",
      "5     DHAYESH     67       56      67    190  63.333333            67\n",
      "6       YUVAN     75       67      75    217  72.333333            75\n",
      "7     BHARATH     54       75      54    183  61.000000            75\n",
      "8      BHAVAN     53       54      53    160  53.333333            54\n",
      "9    CHANDRAN     76       53      76    205  68.333333            76\n",
      "10       ELAN     56       76      56    188  62.666667            76\n",
      "11      SURYA     67       56      67    190  63.333333            67\n",
      "12    HIRENDE     75       67      75    217  72.333333            75\n",
      "13     AKILAN     54       75      54    183  61.000000            75\n",
      "14     LOHITH     53       54      53    160  53.333333            54\n",
      "15    KISHORE     76       53      76    205  68.333333            76\n",
      "16    LATHISH     56       76      56    188  62.666667            76\n",
      "17  MAITHRESH     67       56      67    190  63.333333            67\n",
      "18      FAHIM     75       67      75    217  72.333333            75\n",
      "19       DHIP     54       75      54    183  61.000000            75\n",
      "20     SANJAY     53       54      53    160  53.333333            54\n",
      "21      VIJAY     76       53      45    174  58.000000            76\n",
      "22   THIVAGAR     56       76      76    208  69.333333            76\n",
      "23        ANU     67       56      43    166  55.333333            67\n",
      "24       GOPI     56       67      24    147  49.000000            67\n",
      "25       HARI     75       56      54    185  61.666667            75\n",
      "26     SUDHAN     54       75      65    194  64.666667            75\n",
      "27     RAJESH     53       58      45    156  52.000000            58\n",
      "28     RAMESH     76       56      34    166  55.333333            76\n",
      "29     SURESH     56       43      54    153  51.000000            56\n"
     ]
    }
   ],
   "source": [
    "import pandas as pd\n",
    "df['Total'] = df[['MATHS', 'SCIENCE', 'SOCIAL']].sum(axis=1)\n",
    "df['Average'] = df[['MATHS', 'SCIENCE', 'SOCIAL']].mean(axis=1)\n",
    "df['Maximum_mark'] = df[['MATHS', 'SCIENCE', 'SOCIAL']].max(axis=1)\n",
    "print(df)"
   ]
  },
  {
   "cell_type": "markdown",
   "id": "e4eb682c-ef1d-4045-8531-dbc14c4b5b50",
   "metadata": {},
   "source": [
    "## Question 3(A) : Compute Total Impedance of an Electrical Circuit"
   ]
  },
  {
   "cell_type": "code",
   "execution_count": 1,
   "id": "f224d22c-1a13-410d-80af-d4472aeee2cb",
   "metadata": {},
   "outputs": [
    {
     "name": "stdout",
     "output_type": "stream",
     "text": [
      "Specify your circuit configuration:\n",
      "1. Series\n",
      "2. Parallel\n"
     ]
    },
    {
     "name": "stdin",
     "output_type": "stream",
     "text": [
      "Enter the circuit configuration (1 for Series, 2 for Parallel):  1\n",
      "Enter the number of components:  2\n"
     ]
    },
    {
     "name": "stdout",
     "output_type": "stream",
     "text": [
      "Enter impedance values in the format a+bj (e.g., 5+3j):\n"
     ]
    },
    {
     "name": "stdin",
     "output_type": "stream",
     "text": [
      "Component 1 impedance:  5+j\n",
      "Component 2 impedance:  2\n"
     ]
    },
    {
     "name": "stdout",
     "output_type": "stream",
     "text": [
      "\n",
      "Impedance Table:\n",
      "  Component  Impedance\n",
      "0        Z1   5.0+1.0j\n",
      "1        Z2   2.0+0.0j\n",
      "2     Total   7.0+1.0j\n",
      "\n",
      "The total impedance of the circuit is: 7.00+1.00j Ω\n"
     ]
    }
   ],
   "source": [
    "import pandas as pd\n",
    "import cmath\n",
    "\n",
    "# Function to calculate total impedance for components in series\n",
    "def total_impedance_series(impedances):\n",
    "    return sum(impedances)\n",
    "\n",
    "# Function to calculate total impedance for components in parallel\n",
    "def total_impedance_parallel(impedances):\n",
    "    reciprocal = sum(1 / z for z in impedances)\n",
    "    return 1 / reciprocal\n",
    "\n",
    "# Main function for calculations\n",
    "def calculate_impedance():\n",
    "    # User input for circuit configuration\n",
    "    print(\"Specify your circuit configuration:\")\n",
    "    print(\"1. Series\")\n",
    "    print(\"2. Parallel\")\n",
    "    config = input(\"Enter the circuit configuration (1 for Series, 2 for Parallel): \").strip()\n",
    "\n",
    "    if config not in {\"1\", \"2\"}:\n",
    "        print(\"Invalid selection. Please restart and choose either 1 or 2.\")\n",
    "        return\n",
    "\n",
    "    # Input impedance values\n",
    "    n = int(input(\"Enter the number of components: \"))\n",
    "    component_data = []\n",
    "    print(\"Enter impedance values in the format a+bj (e.g., 5+3j):\")\n",
    "    for i in range(n):\n",
    "        z = complex(input(f\"Component {i+1} impedance: \"))\n",
    "        component_data.append({\"Component\": f\"Z{i+1}\", \"Impedance\": z})\n",
    "\n",
    "    # Create a DataFrame for the impedance values\n",
    "    df = pd.DataFrame(component_data)\n",
    "\n",
    "    # Calculate total impedance\n",
    "    if config == \"1\":\n",
    "        total_imp = total_impedance_series(df['Impedance'])\n",
    "    else:\n",
    "        total_imp = total_impedance_parallel(df['Impedance'])\n",
    "    \n",
    "    # Add total impedance to DataFrame\n",
    "    df.loc[len(df.index)] = [\"Total\", total_imp]\n",
    "    \n",
    "    # Display the DataFrame\n",
    "    print(\"\\nImpedance Table:\")\n",
    "    print(df)\n",
    "    print(f\"\\nThe total impedance of the circuit is: {total_imp:.2f} Ω\")\n",
    "\n",
    "# Run the function in a Jupyter Notebook cell\n",
    "calculate_impedance()\n"
   ]
  },
  {
   "cell_type": "markdown",
   "id": "d0b27c4a-cc0d-49f2-978c-174244683a0d",
   "metadata": {},
   "source": [
    "## Question 3(B): Perform Matrix Manipulation on Stock Price Data"
   ]
  },
  {
   "cell_type": "code",
   "execution_count": 136,
   "id": "8f331595-c239-4cd8-84f0-5e02cb699669",
   "metadata": {},
   "outputs": [
    {
     "name": "stdout",
     "output_type": "stream",
     "text": [
      "Stock 1:\n",
      " [[ 2  3  5]\n",
      " [ 4  6  7]\n",
      " [ 8  9  2]\n",
      " [11  5  6]\n",
      " [ 2  4  5]]\n",
      "\n",
      "Stock 2:\n",
      " [[1 2 3]\n",
      " [5 8 7]\n",
      " [8 4 2]\n",
      " [8 6 4]\n",
      " [7 5 9]]\n",
      "\n",
      "Element-wise Sum:\n",
      " [[ 3  5  8]\n",
      " [ 9 14 14]\n",
      " [16 13  4]\n",
      " [19 11 10]\n",
      " [ 9  9 14]]\n",
      "\n",
      "Element-wise Difference:\n",
      " [[ 1  1  2]\n",
      " [-1 -2  0]\n",
      " [ 0  5  0]\n",
      " [ 3 -1  2]\n",
      " [-5 -1 -4]]\n"
     ]
    }
   ],
   "source": [
    "import numpy as np\n",
    "stock1 = np.array([[2, 3, 5], [4, 6, 7], [8, 9, 2], [11, 5, 6], [2, 4, 5]])\n",
    "stock2 = np.array([[1, 2, 3], [5, 8, 7], [8, 4, 2], [8, 6, 4], [7, 5, 9]])  \n",
    "sum_matrix = stock1 + stock2\n",
    "diff_matrix = stock1 - stock2\n",
    "print(\"Stock 1:\\n\", stock1)\n",
    "print(\"\\nStock 2:\\n\", stock2)\n",
    "print(\"\\nElement-wise Sum:\\n\", sum_matrix)\n",
    "print(\"\\nElement-wise Difference:\\n\", diff_matrix)"
   ]
  },
  {
   "cell_type": "markdown",
   "id": "ef785ff9-abef-403f-88b8-3c386bda8b5e",
   "metadata": {},
   "source": [
    "## Question 4 (A) : Analyze EEG Data Using Pandas"
   ]
  },
  {
   "cell_type": "code",
   "execution_count": 159,
   "id": "86f8970a-5c6a-45b9-9fc7-f04deb505038",
   "metadata": {},
   "outputs": [
    {
     "name": "stdout",
     "output_type": "stream",
     "text": [
      "     Name  p1  p2 condition  Time  mean  variance  peak_values\n",
      "0   SUTHA -76  45     reset  3.56 -15.5    7320.5           45\n",
      "1  YOGESH -98  34    memory  7.56 -32.0    8712.0           34\n",
      "2  MAHESH -87 -67     reset  5.43 -77.0     200.0          -67\n",
      "3    HARI  56  35    memory  8.97  45.5     220.5           56\n"
     ]
    }
   ],
   "source": [
    "import pandas as pd\n",
    "df = pd.read_excel(\"details of patients.xlsx\")\n",
    "df['mean'] = df[['p1', 'p2']].mean(axis=1)\n",
    "df['variance'] = df[['p1', 'p2']].var(axis=1)\n",
    "df['peak_values'] = df[['p1', 'p2']].max(axis=1)\n",
    "print(df[['Name', 'p1', 'p2', 'condition','Time','mean', 'variance', 'peak_values']].head())"
   ]
  },
  {
   "cell_type": "markdown",
   "id": "5fb3af94-f8b9-4540-ab04-b11f2fe56cbd",
   "metadata": {},
   "source": [
    "## Question4 (B): Perform Basic Data Analysis on Product Inventory "
   ]
  },
  {
   "cell_type": "code",
   "execution_count": 167,
   "id": "874f83d4-d103-4d95-b777-783e43a950c9",
   "metadata": {},
   "outputs": [
    {
     "name": "stdout",
     "output_type": "stream",
     "text": [
      "1. DataFrame Info:\n",
      "<class 'pandas.core.frame.DataFrame'>\n",
      "RangeIndex: 5 entries, 0 to 4\n",
      "Data columns (total 3 columns):\n",
      " #   Column    Non-Null Count  Dtype \n",
      "---  ------    --------------  ----- \n",
      " 0   Product   5 non-null      object\n",
      " 1   Price     5 non-null      int64 \n",
      " 2   Quantity  5 non-null      int64 \n",
      "dtypes: int64(2), object(1)\n",
      "memory usage: 252.0+ bytes\n",
      "None\n",
      "\n",
      "2. DataFrame with Total Value:\n",
      "      Product  Price  Quantity  Total Value\n",
      "0      Laptop   1200        10        12000\n",
      "1  Smartphone    800        20        16000\n",
      "2      Tablet    300        15         4500\n",
      "3     Monitor    150        25         3750\n",
      "4    Keyboard     50        50         2500\n",
      "\n",
      "3. Product with highest price: 1200\n",
      "\n",
      "4. Average price: $500.00\n",
      "\n",
      "5. Products sorted by quantity:\n",
      "      Product  Quantity\n",
      "4    Keyboard        50\n",
      "3     Monitor        25\n",
      "1  Smartphone        20\n",
      "2      Tablet        15\n",
      "0      Laptop        10\n"
     ]
    },
    {
     "data": {
      "image/png": "[encoded data removed]",
      "text/plain": [
       "<Figure size 1000x500 with 1 Axes>"
      ]
     },
     "metadata": {},
     "output_type": "display_data"
    }
   ],
   "source": [
    "import pandas as pd\n",
    "import matplotlib.pyplot as plt\n",
    "data = {\n",
    "    'Product': ['Laptop', 'Smartphone', 'Tablet', 'Monitor', 'Keyboard'],\n",
    "    'Price': [1200, 800, 300, 150, 50],\n",
    "    'Quantity': [10, 20, 15, 25, 50]\n",
    "}\n",
    "df = pd.DataFrame(data)\n",
    "print(\"1. DataFrame Info:\")\n",
    "print(df.info())\n",
    "df['Total Value'] = df['Price'] * df['Quantity']\n",
    "print(\"\\n2. DataFrame with Total Value:\")\n",
    "print(df)\n",
    "max_price_product =df['Price'].max()\n",
    "print(f\"\\n3. Product with highest price: {max_price_product}\")\n",
    "avg_price = df['Price'].mean()\n",
    "print(f\"\\n4. Average price: ${avg_price:.2f}\")\n",
    "sorted_df = df.sort_values('Quantity', ascending=False)\n",
    "print(\"\\n5. Products sorted by quantity:\")\n",
    "print(sorted_df[['Product', 'Quantity']])\n",
    "plt.figure(figsize=(10, 5))\n",
    "plt.bar(df['Product'], df['Quantity'], color='skyblue')\n",
    "plt.title('Product Quantities in Inventory')\n",
    "plt.xlabel('Product')\n",
    "plt.ylabel('Quantity')\n",
    "plt.xticks(rotation=45)\n",
    "plt.grid(axis='y', linestyle='--', alpha=0.7)\n",
    "plt.tight_layout()\n",
    "plt.show()"
   ]
  },
  {
   "cell_type": "markdown",
   "id": "187310ea-cd70-49bf-ad2f-49a90fce63ad",
   "metadata": {},
   "source": [
    "## Question5 (A): Perform Sales Data Analysis Using Pandas"
   ]
  },
  {
   "cell_type": "code",
   "execution_count": 65,
   "id": "577df7c0-9289-4d9a-8d9e-0fd631d6f3aa",
   "metadata": {},
   "outputs": [
    {
     "name": "stdout",
     "output_type": "stream",
     "text": [
      "  Date,product,quantity,price,sales\n",
      "0    03-Jun,Laptop,45000,56000,6700\n",
      "1          04-Jul,pc,8796,77600,980\n",
      "2      04-Aug,pen gold,567,6700,789\n",
      "3         05-Jun,headphone,,669,578\n",
      "4          08-Jun,buds,44500,76,567\n",
      "5           08-Jun,phone,66655,890,\n",
      "First 5 rows of the data:\n",
      "  Date,product,quantity,price,sales\n",
      "0    03-Jun,Laptop,45000,56000,6700\n",
      "1          04-Jul,pc,8796,77600,980\n",
      "2      04-Aug,pen gold,567,6700,789\n",
      "3         05-Jun,headphone,,669,578\n",
      "4          08-Jun,buds,44500,76,567\n",
      "\n",
      "\n",
      "Dropped dataframe\n",
      "   Date,product,quantity,price,sales\n",
      "0    03-Jun,Laptop,45000,56000,6700\n",
      "1          04-Jul,pc,8796,77600,980\n",
      "2      04-Aug,pen gold,567,6700,789\n",
      "3         05-Jun,headphone,,669,578\n",
      "4          08-Jun,buds,44500,76,567\n",
      "5           08-Jun,phone,66655,890,\n",
      "Replaced datafram\n",
      "   Date,product,quantity,price,sales\n",
      "0    03-Jun,Laptop,45000,56000,6700\n",
      "1          04-Jul,pc,8796,77600,980\n",
      "2      04-Aug,pen gold,567,6700,789\n",
      "3         05-Jun,headphone,,669,578\n",
      "4          08-Jun,buds,44500,76,567\n",
      "5           08-Jun,phone,66655,890,\n",
      "Filled dataframe\n",
      "   Date,product,quantity,price,sales\n",
      "0    03-Jun,Laptop,45000,56000,6700\n",
      "1          04-Jul,pc,8796,77600,980\n",
      "2      04-Aug,pen gold,567,6700,789\n",
      "3         05-Jun,headphone,,669,578\n",
      "4          08-Jun,buds,44500,76,567\n",
      "5           08-Jun,phone,66655,890,\n",
      "Axes(0.125,0.11;0.775x0.77)\n"
     ]
    },
    {
     "data": {
      "image/png": "[encoded data removed]",
      "text/plain": [
       "<Figure size 640x480 with 1 Axes>"
      ]
     },
     "metadata": {},
     "output_type": "display_data"
    },
    {
     "name": "stdout",
     "output_type": "stream",
     "text": [
      "None\n"
     ]
    }
   ],
   "source": [
    "import pandas as pd\n",
    "import numpy as np\n",
    "import matplotlib.pyplot as plt\n",
    "import seaborn as sns\n",
    "df=pd.read_csv(\"sales-pro.csv\")\n",
    "print(df)\n",
    "print(\"First 5 rows of the data:\")\n",
    "print(df.head())\n",
    "print(\"\\n\")\n",
    "print(\"Dropped dataframe\\n\",df.dropna())\n",
    "print(\"Replaced datafram\\n\",df.fillna(76000))\n",
    "print(\"Filled dataframe\\n\",df.ffill())\n",
    "x=np.array([56000,77600,6700,669,76,66655])\n",
    "y=np.array([6700,980,789,578,567,890])\n",
    "print(sns.scatterplot(data=y))\n",
    "print(plt.show())"
   ]
  },
  {
   "cell_type": "markdown",
   "id": "acfcf477-dff5-477f-824c-e0bf5b97c79a",
   "metadata": {},
   "source": [
    "## Question5 (B): Analyze Healthcare Data Using Python and Pandas"
   ]
  },
  {
   "cell_type": "code",
   "execution_count": 86,
   "id": "3f3c2532-f1d5-402c-94cf-fe89a2e0bf08",
   "metadata": {},
   "outputs": [
    {
     "name": "stdout",
     "output_type": "stream",
     "text": [
      "   patient id  age  gender   diagnostics   treatment   bp\n",
      "0           1   45    male      diabetes   metformin  120\n",
      "1           2   32  female  hypertension  lisinopril  140\n",
      "2           3   67    male     arthritis  ibuprofoin  130\n",
      "3           4   28  female        asthma   albuterol  118\n",
      "4           5   53    male      diabetes     insulin  125\n",
      "\n",
      "=== Column Names and Data Types ===\n",
      "patient id      int64\n",
      "age             int64\n",
      "gender         object\n",
      "diagnostics    object\n",
      "treatment      object\n",
      "bp              int64\n",
      "dtype: object\n",
      "\n",
      "=== Average Age of Patients ===\n",
      "45.00 years\n",
      "\n",
      "=== Diagnosis Distribution ===\n",
      "diagnostics\n",
      "diabetes        2\n",
      "hypertension    1\n",
      "arthritis       1\n",
      "asthma          1\n",
      "Name: count, dtype: int64\n"
     ]
    }
   ],
   "source": [
    "import pandas as pd\n",
    "df=pd.read_csv(\"D:/browser downloads/healthcare data.csv\")\n",
    "print(df)\n",
    "print(\"\\n=== Column Names and Data Types ===\")\n",
    "print(df.dtypes)\n",
    "avg_age = df['age'].mean()\n",
    "print(f\"\\n=== Average Age of Patients ===\")\n",
    "print(f\"{avg_age:.2f} years\")\n",
    "print(\"\\n=== Diagnosis Distribution ===\")\n",
    "diagnosis_counts = df['diagnostics'].value_counts()\n",
    "print(diagnosis_counts)"
   ]
  },
  {
   "cell_type": "code",
   "execution_count": null,
   "id": "6c4e20ce-d193-4c14-b8f9-66dd130cb26c",
   "metadata": {},
   "outputs": [],
   "source": []
  }
 ],
 "metadata": {
  "kernelspec": {
   "display_name": "Python [conda env:base] *",
   "language": "python",
   "name": "conda-base-py"
  },
  "language_info": {
   "codemirror_mode": {
    "name": "ipython",
    "version": 3
   },
   "file_extension": ".py",
   "mimetype": "text/x-python",
   "name": "python",
   "nbconvert_exporter": "python",
   "pygments_lexer": "ipython3",
   "version": "3.12.7"
  }
 },
 "nbformat": 4,
 "nbformat_minor": 5
}
